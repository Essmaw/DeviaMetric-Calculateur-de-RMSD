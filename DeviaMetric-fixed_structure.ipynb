{
 "cells": [
  {
   "attachments": {},
   "cell_type": "markdown",
   "metadata": {},
   "source": [
    "# DeviaMetric - Calculateur de RMSD \n",
    "\n",
    "Bienvenue dans DeviaMetric ! Cet outil est conçu pour calculer le RMSD (Root Mean Square Deviation) entre deux fichiers PDB, tout en offrant une visualisation interactive de l'alignement entre les structures moléculaires correspondantes.\n",
    "\n",
    "---\n",
    "\n",
    "## À propos de DeviaMetric 🌟\n",
    "\n",
    "Le RMSD est une mesure couramment utilisée en bio-informatique pour évaluer la similarité structurelle entre deux ensembles d'atomes. Plus précisément, il quantifie la moyenne des distances entre les atomes de référence (structure fixe) et les atomes mobiles (structure en cours d'évaluation), après une superposition optimale.\n",
    "\n",
    "DeviaMetric propose une interface conviviale permettant de charger deux fichiers PDB, de choisir les atomes sur lesquels baser l'alignement (par exemple, tous les atomes, uniquement le squelette de la protéine, ou les atomes carbone-alpha), de visualiser l'alignement en 3D à l'aide de NGLView, et enfin de calculer le RMSD correspondant.\n",
    "\n",
    "---\n",
    "\n",
    "## Instructions d'utilisation 📝\n",
    "\n",
    "1. **Chargement des Fichiers PDB :** Utilisez les cellules de code appropriées pour charger deux fichiers PDB.\n",
    "2. **Spécification des Atomes pour l'Alignement :** Déterminez quels atomes utiliser pour l'alignement (par défaut, tous les atomes sont sélectionnés).\n",
    "3. **Exécution :** Exécutez les cellules pour calculer le RMSD et visualiser l'alignement.\n",
    "\n",
    "---\n",
    "\n",
    "## Configuration Requise 🔧\n",
    "\n",
    "Avant de commencer, assurez-vous d'avoir installé les dépendances suivantes :\n",
    "- [Biopython](https://biopython.org/)\n",
    "- [NGLView](https://github.com/nglviewer/nglview)\n",
    "\n",
    "---\n",
    "\n",
    "**Remarque :** Ce notebook est interactif et nécessite une exécution cellule par cellule pour afficher les résultats.\n"
   ]
  },
  {
   "attachments": {},
   "cell_type": "markdown",
   "metadata": {},
   "source": [
    "## I. Chargement des librairies"
   ]
  },
  {
   "cell_type": "code",
   "execution_count": 4,
   "metadata": {},
   "outputs": [
    {
     "data": {
      "application/vnd.jupyter.widget-view+json": {
       "model_id": "edaf0d235ab34ed19faa4e2823ab38f8",
       "version_major": 2,
       "version_minor": 0
      },
      "text/plain": []
     },
     "metadata": {},
     "output_type": "display_data"
    }
   ],
   "source": [
    "import nglview as nv\n",
    "import numpy as np\n",
    "from Bio.SVDSuperimposer import SVDSuperimposer\n",
    "from Bio.PDB import PDBParser, Superimposer\n",
    "from ipywidgets import interact, interactive, fixed, interact_manual, interactive_output    \n",
    "from IPython.display import display\n",
    "import ipywidgets as widgets\n",
    "import warnings\n"
   ]
  },
  {
   "cell_type": "code",
   "execution_count": 17,
   "metadata": {},
   "outputs": [],
   "source": [
    "# pour ignorer les warnings\n",
    "warnings.filterwarnings('ignore', category=DeprecationWarning)\n",
    "warnings.filterwarnings('ignore', category=UserWarning)"
   ]
  },
  {
   "attachments": {},
   "cell_type": "markdown",
   "metadata": {},
   "source": [
    "## II. Chargement des structures"
   ]
  },
  {
   "attachments": {},
   "cell_type": "markdown",
   "metadata": {},
   "source": [
    "Par recherche dans la [RCSB PDB](https://www.rcsb.org/) :"
   ]
  },
  {
   "cell_type": "code",
   "execution_count": null,
   "metadata": {},
   "outputs": [],
   "source": [
    "# Créer les widgets pour les deux ID PDB\n",
    "pdb_id_1 = widgets.Text(\n",
    "    value='',\n",
    "    placeholder='Entrez le premier ID PDB',\n",
    "    description='ID PDB 1:',\n",
    "    disabled=False\n",
    ")\n",
    "display(pdb_id_1)\n",
    "\n",
    "pdb_id_2 = widgets.Text(\n",
    "    value='',\n",
    "    placeholder='Entrez le deuxième ID PDB',\n",
    "    description='ID PDB 2:',\n",
    "    disabled=False\n",
    ")\n",
    "display(pdb_id_2)\n",
    "\n",
    "\n",
    "# Fonction à appeler lors du clic sur le bouton\n",
    "def visualisation_id_pdb(b):\n",
    "    if isinstance(pdb_id_1, widgets.Text) and isinstance(pdb_id_2, widgets.Text):\n",
    "            pdb_id1 = pdb_id_1.value.lower()\n",
    "            print(pdb_id1, len(pdb_id1))\n",
    "            pdb_id2 = pdb_id_2.value.lower()\n",
    "            if pdb_id1 != '' and pdb_id2 != '':\n",
    "                if len(pdb_id1) == 4 and len(pdb_id2) == 4 :\n",
    "                    view1 = nv.show_pdbid(pdb_id1)\n",
    "                    view2 = nv.show_pdbid(pdb_id2)\n",
    "                    return view1, view2\n",
    "                else:\n",
    "                    print(\"Les ID PDB ne sont pas valides\")\n",
    "                    return\n",
    "            else:\n",
    "                print('Veuillez entrer les deux ID PDB')\n",
    "\n",
    "# Créer un bouton pour valider les ID PDB\n",
    "button = widgets.Button(description=\"Charger les structures PDB\",\n",
    "                        layout=widgets.Layout(width='200px'))\n",
    "button.on_click(visualisation_id_pdb)\n",
    "display(button)\n"
   ]
  },
  {
   "attachments": {},
   "cell_type": "markdown",
   "metadata": {},
   "source": [
    "Par chargement des fichiers :"
   ]
  },
  {
   "cell_type": "code",
   "execution_count": null,
   "metadata": {},
   "outputs": [],
   "source": [
    "pdb_file_1 = widgets.FileUpload(\n",
    "    description = 'Charger le 1er fichier PDB',\n",
    "    accept='.pdb',\n",
    "    layout=widgets.Layout(width='220px'),\n",
    "    multiple=False  \n",
    ")\n",
    "display(pdb_file_1)\n",
    "\n",
    "pdb_file_2 = widgets.FileUpload(\n",
    "    description = 'Charger le 2nd fichier PDB',\n",
    "    accept='.pdb',\n",
    "    layout=widgets.Layout(width='220px'),\n",
    "    multiple=False\n",
    ")\n",
    "display(pdb_file_2)\n",
    "\n",
    "# Fonction à appeler lors du clic sur le bouton\n",
    "def visualisation_fichier_pdb(b):\n",
    "    pdb_1 = pdb_file_1.value\n",
    "    pdb_2 = pdb_file_2.value\n",
    "    print(pdb_1, pdb_2, len(pdb_1))\n",
    "    if isinstance(pdb_1, widgets.FileUpload) and isinstance(pdb_2, widgets.FileUpload):\n",
    "        if pdb_1 != None and pdb_2 != None:\n",
    "            # Visualiser avec nv\n",
    "            view1 = nv.show_file(pdb_1)\n",
    "            view2 = nv.show_file(pdb_2)\n",
    "            return view1, view2\n",
    "    else:\n",
    "        print('Veuillez charger les deux fichiers PDB')\n",
    "    \n",
    "\n",
    "display(button)\n",
    "button.on_click(visualisation_fichier_pdb)\n"
   ]
  },
  {
   "cell_type": "code",
   "execution_count": 6,
   "metadata": {},
   "outputs": [],
   "source": [
    "ficher1 = \"1ake.pdb\"\n",
    "fichier2 = \"4ake.pdb\""
   ]
  },
  {
   "attachments": {},
   "cell_type": "markdown",
   "metadata": {},
   "source": [
    "## III. Alignement des structures"
   ]
  },
  {
   "cell_type": "code",
   "execution_count": 12,
   "metadata": {},
   "outputs": [
    {
     "data": {
      "application/vnd.jupyter.widget-view+json": {
       "model_id": "45e60dbf9baa4f14896f81c86e999330",
       "version_major": 2,
       "version_minor": 0
      },
      "text/plain": [
       "ToggleButtons(description='Alignement sur :', options=('CA', 'backbone', 'all'), tooltips=('Alignement se fera…"
      ]
     },
     "metadata": {},
     "output_type": "display_data"
    }
   ],
   "source": [
    "# widget pour le choix des atomes de l'alignement\n",
    "option_ali = widgets.ToggleButtons(\n",
    "    options=['CA', 'backbone', 'all'],\n",
    "    description='Alignement sur :',\n",
    "    disabled=False,\n",
    "    button_style='', \n",
    "    tooltips=['Alignement se fera sur les carbones alphas des 2 structures',\n",
    "              'Alignement se fera sur les backbones des 2 structures',\n",
    "              'Alignement se fera sur tous les atomes des 2 structures']\n",
    ")\n",
    "option_ali"
   ]
  },
  {
   "cell_type": "code",
   "execution_count": 13,
   "metadata": {},
   "outputs": [
    {
     "name": "stdout",
     "output_type": "stream",
     "text": [
      "CA\n"
     ]
    }
   ],
   "source": [
    "print(option_ali.value)"
   ]
  },
  {
   "cell_type": "code",
   "execution_count": 14,
   "metadata": {},
   "outputs": [],
   "source": [
    "def align_pdb_files(file1, file2, align_type):\n",
    "        parser = PDBParser()\n",
    "        structure1 = parser.get_structure('structure1', file1)\n",
    "        structure2 = parser.get_structure('structure2', file2)\n",
    "\n",
    "        atoms1 = []\n",
    "        atoms2 = []\n",
    "        for model1, model2 in zip(structure1, structure2):\n",
    "            for chain1, chain2 in zip(model1, model2):\n",
    "                for residue1, residue2 in zip(chain1, chain2):\n",
    "                    if align_type == \"CA\":\n",
    "                        try:\n",
    "                            atoms1.append(residue1['CA'])\n",
    "                            atoms2.append(residue2['CA'])\n",
    "                        except KeyError:\n",
    "                            pass\n",
    "                    elif align_type == \"all\":\n",
    "                        atoms1.extend(residue1.get_atoms())\n",
    "                        atoms2.extend(residue2.get_atoms())\n",
    "                    elif align_type == \"chain\":\n",
    "                        atoms1.extend(chain1.get_atoms())\n",
    "                        atoms2.extend(chain2.get_atoms())\n",
    "\n",
    "        sup = Superimposer()\n",
    "        sup.set_atoms(atoms1, atoms2)\n",
    "        sup.apply(structure2.get_atoms())\n",
    "\n",
    "        return structure1, structure2"
   ]
  },
  {
   "cell_type": "code",
   "execution_count": 18,
   "metadata": {},
   "outputs": [
    {
     "name": "stderr",
     "output_type": "stream",
     "text": [
      "/home/tess01hp/.local/lib/python3.10/site-packages/Bio/PDB/StructureBuilder.py:89: PDBConstructionWarning: WARNING: Chain A is discontinuous at line 3796.\n",
      "  warnings.warn(\n",
      "/home/tess01hp/.local/lib/python3.10/site-packages/Bio/PDB/StructureBuilder.py:89: PDBConstructionWarning: WARNING: Chain B is discontinuous at line 3860.\n",
      "  warnings.warn(\n",
      "/home/tess01hp/.local/lib/python3.10/site-packages/Bio/PDB/StructureBuilder.py:89: PDBConstructionWarning: WARNING: Chain A is discontinuous at line 3917.\n",
      "  warnings.warn(\n",
      "/home/tess01hp/.local/lib/python3.10/site-packages/Bio/PDB/StructureBuilder.py:89: PDBConstructionWarning: WARNING: Chain B is discontinuous at line 4158.\n",
      "  warnings.warn(\n",
      "/home/tess01hp/.local/lib/python3.10/site-packages/Bio/PDB/StructureBuilder.py:89: PDBConstructionWarning: WARNING: Chain A is discontinuous at line 3671.\n",
      "  warnings.warn(\n",
      "/home/tess01hp/.local/lib/python3.10/site-packages/Bio/PDB/StructureBuilder.py:89: PDBConstructionWarning: WARNING: Chain B is discontinuous at line 3743.\n",
      "  warnings.warn(\n"
     ]
    }
   ],
   "source": [
    "structure1, structure2 = align_pdb_files(ficher1, fichier2, option_ali.value)"
   ]
  },
  {
   "attachments": {},
   "cell_type": "markdown",
   "metadata": {},
   "source": [
    "# IV. Calcul du RMSD"
   ]
  },
  {
   "cell_type": "code",
   "execution_count": 19,
   "metadata": {},
   "outputs": [],
   "source": [
    "# Fonction pour calculer le RMSD entre deux structures alignées\n",
    "def calculate_rmsd(structure1, structure2, align_type=\"CA\"):\n",
    "        atoms1 = []\n",
    "        atoms2 = []\n",
    "\n",
    "        for model1, model2 in zip(structure1, structure2):\n",
    "            for chain1, chain2 in zip(model1, model2):\n",
    "                for residue1, residue2 in zip(chain1, chain2):\n",
    "                    if align_type == \"CA\":\n",
    "                        try:\n",
    "                            atoms1.append(residue1['CA'])\n",
    "                            atoms2.append(residue2['CA'])\n",
    "                        except KeyError:\n",
    "                            pass\n",
    "                    elif align_type == \"all\":\n",
    "                        atoms1.extend(residue1.get_atoms())\n",
    "                        atoms2.extend(residue2.get_atoms())\n",
    "                    elif align_type == \"chain\":\n",
    "                        atoms1.extend(chain1.get_atoms())\n",
    "                        atoms2.extend(chain2.get_atoms())\n",
    "\n",
    "        total_atoms = len(atoms1)\n",
    "        rmsd = sum([(atom1 - atom2) ** 2 for atom1, atom2 in zip(atoms1, atoms2)]) / total_atoms\n",
    "        rmsd = rmsd ** 0.5\n",
    "\n",
    "        return rmsd"
   ]
  },
  {
   "cell_type": "code",
   "execution_count": 20,
   "metadata": {},
   "outputs": [
    {
     "name": "stdout",
     "output_type": "stream",
     "text": [
      "Le RMSD entre la structure <Structure id=structure1> et <Structure id=structure2> est égale à 18.4487 Å\n"
     ]
    }
   ],
   "source": [
    "rmsd = calculate_rmsd(structure1, structure2)\n",
    "print(f\"Le RMSD entre la structure {structure1} et {structure2} est égale à {rmsd:.4f} Å\")"
   ]
  },
  {
   "cell_type": "code",
   "execution_count": null,
   "metadata": {},
   "outputs": [],
   "source": []
  }
 ],
 "metadata": {
  "kernelspec": {
   "display_name": "Python 3",
   "language": "python",
   "name": "python3"
  },
  "language_info": {
   "codemirror_mode": {
    "name": "ipython",
    "version": 3
   },
   "file_extension": ".py",
   "mimetype": "text/x-python",
   "name": "python",
   "nbconvert_exporter": "python",
   "pygments_lexer": "ipython3",
   "version": "3.10.12"
  },
  "orig_nbformat": 4,
  "vscode": {
   "interpreter": {
    "hash": "916dbcbb3f70747c44a77c7bcd40155683ae19c65e1c03b4aa3499c5328201f1"
   }
  }
 },
 "nbformat": 4,
 "nbformat_minor": 2
}
