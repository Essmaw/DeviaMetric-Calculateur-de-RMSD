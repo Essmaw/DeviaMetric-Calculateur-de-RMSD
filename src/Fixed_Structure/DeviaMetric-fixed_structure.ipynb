{
 "cells": [
  {
   "attachments": {},
   "cell_type": "markdown",
   "metadata": {},
   "source": [
    "# DeviaMetric - Calculateur de RMSD \n",
    "\n",
    "Bienvenue dans DeviaMetric ! Cet outil est conçu pour calculer le RMSD (Root Mean Square Deviation) entre deux fichiers PDB, tout en offrant une visualisation interactive de l'alignement entre les structures moléculaires correspondantes.\n",
    "\n",
    "---\n",
    "\n",
    "## À propos de DeviaMetric 🌟\n",
    "\n",
    "Le RMSD est une mesure couramment utilisée en bio-informatique pour évaluer la similarité structurelle entre deux ensembles d'atomes. Plus précisément, cette méthode calcule le RMSD entre deux structures alignées en fonction du type d'alignement spécifié, tel que les carbones alpha, tous les atomes, ou seulement le backbone. Les atomes des deux structures sont comparés atom par atom, et le RMSD est calculé en prenant en compte la différence quadratique moyenne entre les positions des atomes, après une superposition optimale.\n",
    "\n",
    "DeviaMetric propose une interface conviviale permettant de charger deux fichiers PDB, de choisir les atomes sur lesquels baser l'alignement (par exemple, tous les atomes, uniquement le squelette de la protéine, ou les atomes carbone-alpha), de visualiser l'alignement en 3D à l'aide de NGLView, et enfin de calculer le RMSD correspondant.\n",
    "\n",
    "---\n",
    "\n",
    "## Configuration Requise 🔧\n",
    "\n",
    "Avant de commencer, assurez-vous d'avoir installé les dépendances suivantes :\n",
    "- [Biopython](https://biopython.org/)\n",
    "- [NGLView](https://github.com/nglviewer/nglview)\n",
    "- [ipywidgets](https://ipywidgets.readthedocs.io/en/latest/)\n",
    "\n",
    "\n",
    "---\n",
    "\n",
    "**Remarque :** Ce notebook est interactif et nécessite une exécution cellule par cellule pour afficher les résultats.\n"
   ]
  },
  {
   "attachments": {},
   "cell_type": "markdown",
   "metadata": {},
   "source": [
    "## I. Chargement des librairies"
   ]
  },
  {
   "cell_type": "code",
   "execution_count": 1,
   "metadata": {},
   "outputs": [
    {
     "data": {
      "application/vnd.jupyter.widget-view+json": {
       "model_id": "62671366b9064ad2b68948d0999f7198",
       "version_major": 2,
       "version_minor": 0
      },
      "text/plain": []
     },
     "metadata": {},
     "output_type": "display_data"
    }
   ],
   "source": [
    "import nglview as nv\n",
    "import numpy as np\n",
    "from Bio import BiopythonWarning\n",
    "from Bio.PDB import PDBParser, Superimposer\n",
    "from ipywidgets import interact, interactive, interactive_output, fixed, interact_manual\n",
    "from IPython.display import display, HTML \n",
    "import ipywidgets as widgets\n",
    "import warnings\n",
    "import urllib.request\n",
    "import os"
   ]
  },
  {
   "cell_type": "code",
   "execution_count": 2,
   "metadata": {},
   "outputs": [],
   "source": [
    "# pour ignorer les warnings\n",
    "warnings.filterwarnings('ignore', category=DeprecationWarning)\n",
    "warnings.filterwarnings('ignore', category=UserWarning)\n",
    "warnings.simplefilter('ignore', BiopythonWarning)"
   ]
  },
  {
   "attachments": {},
   "cell_type": "markdown",
   "metadata": {},
   "source": [
    "## II. Chargement des structures"
   ]
  },
  {
   "attachments": {},
   "cell_type": "markdown",
   "metadata": {},
   "source": [
    "Par recherche dans la [RCSB PDB](https://www.rcsb.org/) :"
   ]
  },
  {
   "cell_type": "code",
   "execution_count": 4,
   "metadata": {},
   "outputs": [
    {
     "data": {
      "application/vnd.jupyter.widget-view+json": {
       "model_id": "568e2600e563407c8daa5b017e1da74f",
       "version_major": 2,
       "version_minor": 0
      },
      "text/plain": [
       "interactive(children=(Text(value='', description='ID PDB 1:', placeholder='Entrez le premier ID PDB'), Text(va…"
      ]
     },
     "metadata": {},
     "output_type": "display_data"
    },
    {
     "name": "stdout",
     "output_type": "stream",
     "text": [
      "Attendez quelques secondes pour que les structures apparaissent...\n"
     ]
    }
   ],
   "source": [
    "# Créer les widgets pour les deux ID PDB\n",
    "pdb_id_1 = widgets.Text(\n",
    "    value='',\n",
    "    placeholder='Entrez le premier ID PDB',\n",
    "    description='ID PDB 1:',\n",
    "    disabled=False\n",
    ")\n",
    "\n",
    "pdb_id_2 = widgets.Text(\n",
    "    value='',\n",
    "    placeholder='Entrez le deuxième ID PDB',\n",
    "    description='ID PDB 2:',\n",
    "    disabled=False\n",
    ")\n",
    "\n",
    "# Définir la fonction pour afficher les structures PDB\n",
    "def visualisation_par_id(pdb_id_1, pdb_id_2):\n",
    "    pdb_id1 = pdb_id_1.lower()\n",
    "    pdb_id2 = pdb_id_2.lower()\n",
    "    if pdb_id1 != '' and pdb_id2 != '':\n",
    "        if len(pdb_id1) == 4 and len(pdb_id2) == 4:\n",
    "            view1 = nv.show_pdbid(pdb_id1)\n",
    "            view2 = nv.show_pdbid(pdb_id2)\n",
    "\n",
    "            view1.add_label(pdb_id1, font_size=24)\n",
    "            view2.add_label(pdb_id2, font_size=24)\n",
    "            \n",
    "            display(view1)\n",
    "            display(view2)\n",
    "        else:\n",
    "            print(\"Les ID PDB ne sont pas valides\")\n",
    "    else:\n",
    "        print('Veuillez entrer les deux ID PDB')\n",
    "\n",
    "# Lier la fonction visualisation aux widgets et créer une interface interactive\n",
    "widgets.interact(visualisation_par_id, pdb_id_1=pdb_id_1, pdb_id_2=pdb_id_2);\n",
    "print(\"Attendez quelques secondes pour que les structures apparaissent...\")"
   ]
  },
  {
   "cell_type": "code",
   "execution_count": 5,
   "metadata": {},
   "outputs": [
    {
     "name": "stdout",
     "output_type": "stream",
     "text": [
      "Téléchargement du fichier PDB de l'ID 1ake en cours...\n",
      "Le fichier PDB de l'ID 1ake a été téléchargé avec succès.\n",
      "\n",
      "Téléchargement du fichier PDB de l'ID 4ake en cours...\n",
      "Le fichier PDB de l'ID 4ake a été téléchargé avec succès.\n",
      "\n"
     ]
    }
   ],
   "source": [
    "def get_structure_from_pdb_id(pdb_id):\n",
    "    print(f\"Téléchargement du fichier PDB de l'ID {pdb_id} en cours...\")\n",
    "    # Construction de l'URL PDB\n",
    "    url = f'https://files.rcsb.org/download/{pdb_id}.pdb'\n",
    "\n",
    "    try:\n",
    "        # Télécharger le fichier PDB à partir de l'URL\n",
    "        with urllib.request.urlopen(url) as response:\n",
    "            pdb_content = response.read()\n",
    "\n",
    "        # Définir le chemin local du fichier PDB\n",
    "        pdb_file_path = f'{pdb_id.lower()}.pdb'\n",
    "\n",
    "        # Écrire le contenu du fichier PDB dans le fichier local\n",
    "        with open(pdb_file_path, 'wb') as pdb_file:\n",
    "            pdb_file.write(pdb_content)\n",
    "        print(f\"Le fichier PDB de l'ID {pdb_id} a été téléchargé avec succès.\")\n",
    "        print(\"\")\n",
    "        return os.path.abspath(pdb_file_path)\n",
    "    \n",
    "    except urllib.error.HTTPError as e:\n",
    "        print(f\"Erreur lors de la récupération de la structure pour l'ID PDB {pdb_id}: {e}\")\n",
    "        return None\n",
    "\n",
    "fichier1_pdb, fichier2_pdb = get_structure_from_pdb_id(pdb_id_1.value), get_structure_from_pdb_id(pdb_id_2.value)"
   ]
  },
  {
   "attachments": {},
   "cell_type": "markdown",
   "metadata": {},
   "source": [
    "Par chargement des fichiers :"
   ]
  },
  {
   "cell_type": "code",
   "execution_count": 6,
   "metadata": {},
   "outputs": [
    {
     "data": {
      "application/vnd.jupyter.widget-view+json": {
       "model_id": "d5017bbca86b444fb7a4cbc92a145270",
       "version_major": 2,
       "version_minor": 0
      },
      "text/plain": [
       "interactive(children=(FileUpload(value={}, accept='.pdb', description='Charger le 1er fichier PDB', layout=Lay…"
      ]
     },
     "metadata": {},
     "output_type": "display_data"
    }
   ],
   "source": [
    "pdb_file_1 = widgets.FileUpload(\n",
    "    description = 'Charger le 1er fichier PDB',\n",
    "    accept='.pdb',\n",
    "    layout=widgets.Layout(width='220px'),\n",
    "    multiple=False  \n",
    ")\n",
    "\n",
    "pdb_file_2 = widgets.FileUpload(\n",
    "    description = 'Charger le 2nd fichier PDB',\n",
    "    accept='.pdb',\n",
    "    layout=widgets.Layout(width='220px'),\n",
    "    multiple=False\n",
    ")\n",
    "# Fonction à appeler lors du clic sur le bouton\n",
    "def visualisation_par_pdb(pdb_file_1, pdb_file_2):\n",
    "    if isinstance(pdb_file_1, widgets.FileUpload) and isinstance(pdb_file_2, widgets.FileUpload):\n",
    "        if pdb_file_1.value != () and pdb_file_2.value != ():\n",
    "            #récupérer les noms des fichiers\n",
    "            dic1, dic2 = pdb_file_1.value[0], pdb_file_2.value[0]\n",
    "            nom1, nom2 = dic1['name'], dic2['name']\n",
    "            # Visualiser avec nv\n",
    "            view1 = nv.show_file(nom1)\n",
    "            view2 = nv.show_file(nom2)\n",
    "            display(view1)\n",
    "            display(view2)\n",
    "            return nom1, nom2\n",
    "\n",
    "widgets.interact(visualisation_par_pdb,  pdb_file_1=pdb_file_1,  pdb_file_2=pdb_file_2);"
   ]
  },
  {
   "cell_type": "code",
   "execution_count": null,
   "metadata": {},
   "outputs": [],
   "source": [
    "fichier1_pdb, fichier2_pdb = visualisation_par_pdb(pdb_file_1, pdb_file_2)"
   ]
  },
  {
   "cell_type": "code",
   "execution_count": 57,
   "metadata": {},
   "outputs": [],
   "source": [
    "# si le widget FileUpload ne fonctionne pas, on peut charger les fichiers manuellement\n",
    "fichier1_pdb, fichier2_pdb = \"1bta.pdb\", \"1brs_barstar_complexe.pdb\""
   ]
  },
  {
   "cell_type": "code",
   "execution_count": null,
   "metadata": {},
   "outputs": [],
   "source": [
    "# visualisation des structures\n",
    "visualisation_par_pdb(\"1bta.pdb\", \"1brs_barstar_complexe.pdb\")"
   ]
  },
  {
   "attachments": {},
   "cell_type": "markdown",
   "metadata": {},
   "source": [
    "## III. Alignement des structures"
   ]
  },
  {
   "cell_type": "code",
   "execution_count": 7,
   "metadata": {},
   "outputs": [
    {
     "data": {
      "application/vnd.jupyter.widget-view+json": {
       "model_id": "a7f10bf37e5d4eccb95ae3c7cb2a8956",
       "version_major": 2,
       "version_minor": 0
      },
      "text/plain": [
       "ToggleButtons(description='Alignement sur :', options=('CA', 'backbone', 'all'), tooltips=('Alignement se fera…"
      ]
     },
     "metadata": {},
     "output_type": "display_data"
    }
   ],
   "source": [
    "# widget pour le choix des atomes de l'alignement\n",
    "option_ali = widgets.ToggleButtons(\n",
    "    options=['CA', 'backbone', 'all'],\n",
    "    description='Alignement sur :',\n",
    "    disabled=False,\n",
    "    button_style='', \n",
    "    tooltips=['Alignement se fera sur les carbones alphas des 2 structures',\n",
    "              'Alignement se fera sur les backbones des 2 structures',\n",
    "              'Alignement se fera sur tous les atomes des 2 structures']\n",
    ")\n",
    "option_ali"
   ]
  },
  {
   "cell_type": "code",
   "execution_count": 8,
   "metadata": {},
   "outputs": [],
   "source": [
    "def align_pdb_files(file1, file2, align_type):\n",
    "    # Initialiser le parseur PDB\n",
    "    parser = PDBParser()\n",
    "\n",
    "    # Analyser les fichiers PDB et obtenir les structures\n",
    "    structure1 = parser.get_structure('structure1', file1)\n",
    "    structure2 = parser.get_structure('structure2', file2)\n",
    "\n",
    "    # Accumuler les atomes pour l'alignement\n",
    "    atoms1 = []\n",
    "    atoms2 = []\n",
    "\n",
    "    # Parcourir les résidus des deux structures\n",
    "    for model1, model2 in zip(structure1, structure2):\n",
    "        for chain1, chain2 in zip(model1, model2):\n",
    "            for residue1, residue2 in zip(chain1, chain2):\n",
    "                # Sélectionner les atomes en fonction du type d'alignement\n",
    "                if align_type == \"CA\":\n",
    "                    # Sélectionner les carbones alpha s'ils existent\n",
    "                    if 'CA' in residue1 and 'CA' in residue2:\n",
    "                        atoms1.append(residue1['CA'])\n",
    "                        atoms2.append(residue2['CA'])\n",
    "                elif align_type == \"all\":\n",
    "                    # Sélectionner tous les atomes des résidus\n",
    "                    atoms1.extend(residue1.get_atoms())\n",
    "                    atoms2.extend(residue2.get_atoms())\n",
    "                elif align_type == \"backbone\":\n",
    "                    # Sélectionner les atomes du backbone (N, CA, C, O)\n",
    "                    backbone_atoms1 = [atom for atom in residue1 if atom.id in ['N', 'CA', 'C', 'O']]\n",
    "                    backbone_atoms2 = [atom for atom in residue2 if atom.id in ['N', 'CA', 'C', 'O']]\n",
    "                    # Ajouter les atomes du backbone à la liste\n",
    "                    atoms1.extend(backbone_atoms1)\n",
    "                    atoms2.extend(backbone_atoms2)\n",
    "\n",
    "    # Vérifier que les listes d'atomes ont la même longueur\n",
    "    min_length = min(len(atoms1), len(atoms2))\n",
    "    atoms1 = atoms1[:min_length]\n",
    "    atoms2 = atoms2[:min_length]\n",
    "\n",
    "    # Créer l'objet Superimposer et définir les atomes\n",
    "    sup = Superimposer()\n",
    "    sup.set_atoms(atoms1, atoms2)\n",
    "\n",
    "    # Appliquer la transformation aux atomes de la structure 2\n",
    "    sup.apply(structure2.get_atoms())\n",
    "\n",
    "    return structure1, structure2"
   ]
  },
  {
   "cell_type": "code",
   "execution_count": 9,
   "metadata": {},
   "outputs": [],
   "source": [
    "structure1, structure2 = align_pdb_files(fichier1_pdb, fichier2_pdb, option_ali.value)"
   ]
  },
  {
   "attachments": {},
   "cell_type": "markdown",
   "metadata": {},
   "source": [
    "# IV. Calcul du RMSD"
   ]
  },
  {
   "cell_type": "code",
   "execution_count": 10,
   "metadata": {},
   "outputs": [],
   "source": [
    "# Fonction pour calculer le RMSD entre deux structures alignées\n",
    "def calculate_rmsd(structure1, structure2, align_type=option_ali.value):\n",
    "        atoms1 = []\n",
    "        atoms2 = []\n",
    "\n",
    "        for model1, model2 in zip(structure1, structure2):\n",
    "            for chain1, chain2 in zip(model1, model2):\n",
    "                for residue1, residue2 in zip(chain1, chain2):\n",
    "                    if align_type == \"CA\":\n",
    "                        try:\n",
    "                            atoms1.append(residue1['CA'])\n",
    "                            atoms2.append(residue2['CA'])\n",
    "                        except KeyError:\n",
    "                            pass\n",
    "                    elif align_type == \"all\":\n",
    "                        atoms1.extend(residue1.get_atoms())\n",
    "                        atoms2.extend(residue2.get_atoms())\n",
    "                    elif align_type == \"backbone\":\n",
    "                        # Sélectionner les atomes du backbone (N, CA, C, O)\n",
    "                        backbone_atoms1 = [atom for atom in residue1 if atom.id in ['N', 'CA', 'C', 'O']]\n",
    "                        backbone_atoms2 = [atom for atom in residue2 if atom.id in ['N', 'CA', 'C', 'O']]\n",
    "                        atoms1.extend(backbone_atoms1)\n",
    "                        atoms2.extend(backbone_atoms2)\n",
    "\n",
    "        total_atoms = len(atoms1)\n",
    "        rmsd = sum([(atom1 - atom2) ** 2 for atom1, atom2 in zip(atoms1, atoms2)]) / total_atoms\n",
    "        rmsd = rmsd ** 0.5\n",
    "\n",
    "        return rmsd"
   ]
  },
  {
   "cell_type": "code",
   "execution_count": 14,
   "metadata": {},
   "outputs": [
    {
     "name": "stdout",
     "output_type": "stream",
     "text": [
      "Le RMSD entre la structure 1ake et 4ake est égale à 18.4487 Å, en prenant en compte les atomes de type CA.\n"
     ]
    }
   ],
   "source": [
    "rmsd = calculate_rmsd(structure1, structure2)\n",
    "print(f\"Le RMSD entre la structure {pdb_id_1.value} et {pdb_id_2.value} est égale à {rmsd:.4f} Å, en prenant en compte les atomes de type {option_ali.value}.\")"
   ]
  },
  {
   "attachments": {},
   "cell_type": "markdown",
   "metadata": {},
   "source": [
    "## Petite Interface Graphique :)"
   ]
  },
  {
   "cell_type": "code",
   "execution_count": 17,
   "metadata": {},
   "outputs": [
    {
     "data": {
      "application/vnd.jupyter.widget-view+json": {
       "model_id": "128f696666a94a969226f0ae9cbcd0cb",
       "version_major": 2,
       "version_minor": 0
      },
      "text/plain": [
       "Text(value='1ake', description='ID PDB 1:', placeholder='Entrez le premier ID PDB')"
      ]
     },
     "metadata": {},
     "output_type": "display_data"
    },
    {
     "data": {
      "application/vnd.jupyter.widget-view+json": {
       "model_id": "a14c42fc30e94f1b86481bfa295109e7",
       "version_major": 2,
       "version_minor": 0
      },
      "text/plain": [
       "Text(value='4ake', description='ID PDB 2:', placeholder='Entrez le deuxième ID PDB')"
      ]
     },
     "metadata": {},
     "output_type": "display_data"
    },
    {
     "data": {
      "application/vnd.jupyter.widget-view+json": {
       "model_id": "a7f10bf37e5d4eccb95ae3c7cb2a8956",
       "version_major": 2,
       "version_minor": 0
      },
      "text/plain": [
       "ToggleButtons(description='Alignement sur :', options=('CA', 'backbone', 'all'), tooltips=('Alignement se fera…"
      ]
     },
     "metadata": {},
     "output_type": "display_data"
    },
    {
     "data": {
      "application/vnd.jupyter.widget-view+json": {
       "model_id": "b5f09730d8fc44a2b850b1e5b43a814e",
       "version_major": 2,
       "version_minor": 0
      },
      "text/plain": [
       "Button(description='Calculer et Afficher RMSD', layout=Layout(width='220px'), style=ButtonStyle())"
      ]
     },
     "metadata": {},
     "output_type": "display_data"
    },
    {
     "data": {
      "application/vnd.jupyter.widget-view+json": {
       "model_id": "a6731783788641e8bd7e8dadcf83c300",
       "version_major": 2,
       "version_minor": 0
      },
      "text/plain": [
       "Output()"
      ]
     },
     "metadata": {},
     "output_type": "display_data"
    }
   ],
   "source": [
    "# Définir une zone de sortie pour afficher le RMSD\n",
    "output_rmsd = widgets.Output()\n",
    "\n",
    "# Fonction pour calculer et afficher le RMSD\n",
    "def calculate_and_display_rmsd(button):\n",
    "    # Ici, vous calculeriez le RMSD entre les structures et stockeriez la valeur dans la variable rmsd\n",
    "    rmsd = calculate_rmsd(structure1, structure2, option_ali.value)\n",
    "    \n",
    "    # Affichage formaté du RMSD\n",
    "    with output_rmsd:\n",
    "        # Effacer le contenu précédent\n",
    "        output_rmsd.clear_output(wait=True)\n",
    "        \n",
    "        # Texte formaté avec les variables mises en valeur en couleur\n",
    "        display(HTML(f\"Le RMSD entre la structure <font color='blue'>{pdb_id_1.value}</font> et \"\n",
    "                     f\"<font color='green'>{pdb_id_2.value}</font> est égale à \"\n",
    "                     f\"<font color='red'>{rmsd:.4f} Å</font>, en prenant en compte les atomes de type \"\n",
    "                     f\"<font color='purple'>{option_ali.value}</font>.\"))\n",
    "\n",
    "        # Bouton pour copier la valeur du RMSD\n",
    "        copy_button = widgets.Button(description=\"Copier RMSD\")\n",
    "        copy_button.on_click(lambda b: copy_to_clipboard(rmsd))\n",
    "        display(copy_button)\n",
    "\n",
    "# Fonction pour copier la valeur du RMSD dans le presse-papiers\n",
    "def copy_to_clipboard(rmsd):\n",
    "    import pyperclip\n",
    "    pyperclip.copy(rmsd)\n",
    "    print(\"La valeur du RMSD a été copiée dans le presse-papiers !\")\n",
    "\n",
    "# Créer un bouton pour déclencher le calcul du RMSD et l'affichage\n",
    "calculate_button = widgets.Button(description=\"Calculer et Afficher RMSD\", layout=widgets.Layout(width='220px'))\n",
    "calculate_button.on_click(calculate_and_display_rmsd)\n",
    "\n",
    "# Afficher les widgets et la zone de sortie\n",
    "display(pdb_id_1, pdb_id_2, option_ali, calculate_button, output_rmsd)"
   ]
  },
  {
   "cell_type": "code",
   "execution_count": null,
   "metadata": {},
   "outputs": [],
   "source": []
  }
 ],
 "metadata": {
  "kernelspec": {
   "display_name": "Python 3 (ipykernel)",
   "language": "python",
   "name": "python3"
  },
  "language_info": {
   "codemirror_mode": {
    "name": "ipython",
    "version": 3
   },
   "file_extension": ".py",
   "mimetype": "text/x-python",
   "name": "python",
   "nbconvert_exporter": "python",
   "pygments_lexer": "ipython3",
   "version": "3.10.12"
  },
  "vscode": {
   "interpreter": {
    "hash": "916dbcbb3f70747c44a77c7bcd40155683ae19c65e1c03b4aa3499c5328201f1"
   }
  }
 },
 "nbformat": 4,
 "nbformat_minor": 4
}
